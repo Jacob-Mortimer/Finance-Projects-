{
 "cells": [
  {
   "cell_type": "code",
   "execution_count": 1,
   "id": "7a982218-09ee-4834-bd6c-3225470340cf",
   "metadata": {},
   "outputs": [
    {
     "name": "stdout",
     "output_type": "stream",
     "text": [
      "[117.31173618 136.68061765  81.81119069 145.50519918 132.38041457\n",
      "  88.71136728 100.94178365  69.21109985  88.68464904 113.19354863]\n",
      "MC price      = 8.060938\n",
      "SE (MC)       = 0.131582\n",
      "95% CI        = [7.803036, 8.318839]\n",
      "N simulations = 10000\n",
      "Black–Scholes = 8.021352\n",
      "Absolute err  = 0.039586\n",
      "Relative err  = 0.4935%\n"
     ]
    },
    {
     "data": {
      "image/png": "[encoded data removed]",
      "text/plain": [
       "<Figure size 640x480 with 1 Axes>"
      ]
     },
     "metadata": {},
     "output_type": "display_data"
    }
   ],
   "source": [
    "# -*- coding: utf-8 -*-\n",
    "\"\"\"\n",
    "Created on Fri Aug 29 12:38:57 2025\n",
    "\n",
    "@author: Jacon\n",
    "\"\"\"\n",
    "#Monte Carlo option pricing ST​=S0​⋅e^((r−0.5​σ^2)T+Zσ(t)^0.5)\n",
    "\n",
    "import numpy as np\n",
    "import math\n",
    "from scipy.stats import norm\n",
    "import matplotlib.pyplot as plt\n",
    "\n",
    "S0 = 100    # stock price today\n",
    "K = 105     # strike price\n",
    "T = 1.0     # time to maturity (1 year)\n",
    "r = 0.05    # risk-free rate\n",
    "sigma = 0.2 # volatility\n",
    "n_sims = 10_000 # number of Monte Carlo simulations\n",
    "\n",
    "# STEP 1: simulate stock price at maturity\n",
    "Z = np.random.standard_normal(n_sims)  # random N(0,1)\n",
    "ST = S0 * np.exp((r - 0.5 * sigma**2)*T + sigma*np.sqrt(T)*Z)\n",
    "\n",
    "print(ST[:10])  # print first 10 simulated prices\n",
    "\n",
    "\n",
    "payoffs = np.maximum(ST - K, 0.0)         # phi_i\n",
    "N = len(payoffs)\n",
    "\n",
    "# Monte Carlo estimator (discounted mean)\n",
    "price_mc = math.exp(-r*T) * payoffs.mean()\n",
    "\n",
    "# sample std of payoffs (ddof=1)\n",
    "s_phi = payoffs.std(ddof=1)\n",
    "\n",
    "# standard error of the estimator\n",
    "se_mc = math.exp(-r*T) * s_phi / math.sqrt(N)\n",
    "\n",
    "# 95% CI\n",
    "z = 1.96\n",
    "ci_lower = price_mc - z * se_mc\n",
    "ci_upper = price_mc + z * se_mc\n",
    "\n",
    "print(f\"MC price      = {price_mc:.6f}\")\n",
    "print(f\"SE (MC)       = {se_mc:.6f}\")\n",
    "print(f\"95% CI        = [{ci_lower:.6f}, {ci_upper:.6f}]\")\n",
    "print(f\"N simulations = {N}\")\n",
    "\n",
    "#Compare with BS\n",
    "\n",
    "def black_scholes_call(S, K, T, r, sigma):\n",
    "    d1 = (np.log(S/K) + (r + 0.5*sigma**2)*T) / (sigma*np.sqrt(T))\n",
    "    d2 = d1 - sigma*np.sqrt(T)\n",
    "    return S*norm.cdf(d1) - K*np.exp(-r*T)*norm.cdf(d2)\n",
    "\n",
    "price_bs = black_scholes_call(S0, K, T, r, sigma)\n",
    "\n",
    "abs_err = abs(price_mc - price_bs)\n",
    "rel_err = abs_err / price_bs\n",
    "\n",
    "print(f\"Black–Scholes = {price_bs:.6f}\")\n",
    "print(f\"Absolute err  = {abs_err:.6f}\")\n",
    "print(f\"Relative err  = {rel_err:.4%}\")\n",
    "\n",
    "Ns = [1000, 5000, 10000, 20000, 50000, 100000]\n",
    "estimates = []\n",
    "ses = []\n",
    "\n",
    "for n in Ns:\n",
    "    Z = np.random.standard_normal(n)\n",
    "    ST = S0 * np.exp((r - 0.5*sigma**2)*T + sigma*np.sqrt(T)*Z)\n",
    "    payoffs = np.maximum(ST - K, 0.0)\n",
    "    est = np.exp(-r*T) * payoffs.mean()\n",
    "    se = np.exp(-r*T) * payoffs.std(ddof=1) / (n**0.5)\n",
    "    estimates.append(est)\n",
    "    ses.append(se)\n",
    "\n",
    "plt.errorbar(Ns, estimates, yerr=ses, fmt='o-')\n",
    "plt.xscale('log')\n",
    "plt.xlabel('N (log scale)')\n",
    "plt.ylabel('Estimated Call Price')\n",
    "plt.title('MC Convergence and SE')\n",
    "plt.show()\n"
   ]
  },
  {
   "cell_type": "markdown",
   "id": "180868a8-1c67-48a9-a9cd-127336087bb8",
   "metadata": {},
   "source": [
    "Project 1 - Monte Carlo Option Pricing (annotated)\n",
    "\n",
    "Goal of this project is to estimate the price of a European call option by Monte Carlo simulation. This notebook keeps the original code intact; explanations below show the mathematics and the Python mechanics for each block."
   ]
  },
  {
   "cell_type": "code",
   "execution_count": null,
   "id": "c0083ace-c364-4658-93d6-754a709680d8",
   "metadata": {},
   "outputs": [],
   "source": [
    "import numpy as np\n",
    "import math\n",
    "from scipy.stats import norm\n",
    "import matplotlib.pyplot as plt"
   ]
  },
  {
   "cell_type": "markdown",
   "id": "6d64df00-aca4-4807-9d31-dda15e93ea5e",
   "metadata": {},
   "source": [
    "- `numpy` (aliased `np`) for vectorised numerical operations and random draws.  \n",
    "- `math` for scalar math functions (we use `math.exp` for a scalar discount factor).  \n",
    "- `scipy.stats.norm` provides the normal CDF used in the Black–Scholes formula.  \n",
    "- `matplotlib.pyplot` for plotting results.\n",
    " \n"
   ]
  },
  {
   "cell_type": "code",
   "execution_count": null,
   "id": "4ce4f6a1-2f66-4121-8cc0-cf589545cb90",
   "metadata": {},
   "outputs": [],
   "source": [
    "S0 = 100    # stock price today\n",
    "K = 105     # strike price\n",
    "T = 1.0     # time to maturity (1 year)\n",
    "r = 0.05    # risk-free rate\n",
    "sigma = 0.2 # volatility\n",
    "n_sims = 10_000 # number of Monte Carlo simulations"
   ]
  },
  {
   "cell_type": "markdown",
   "id": "a9623c3a-2bb2-474b-acf2-481715d67d77",
   "metadata": {},
   "source": [
    "Increasing `n_sims` reduces the standard error and narrows the confidence interval, improving accuracy — but at the cost of higher computational effort. \n",
    "- **Law of Large Numbers (LLN):** ensures that as the number of simulations \\(N\\) grows, the sample mean of simulated payoffs converges to the true expected payoff.  \n",
    "$$\n",
    "\\frac{1}{N} \\sum_{i=1}^N \\phi_i \\;\\;\\xrightarrow[]{N \\to \\infty}\\;\\; \\mathbb{E}[\\phi]\n",
    "$$\n",
    "\n",
    "- **Central Limit Theorem (CLT):** guarantees that the distribution of the Monte Carlo estimator is approximately normal for large \\(N\\), with variance shrinking at a rate of \\(1/N\\). This justifies using confidence intervals.  \n",
    "$$\n",
    "\\hat{C}_{MC} \\sim \\mathcal{N}\\left(C, \\frac{\\sigma^2}{N}\\right)\n",
    "$$"
   ]
  },
  {
   "cell_type": "code",
   "execution_count": null,
   "id": "6fa1371c-013b-4e3b-a962-5e68c2970ad3",
   "metadata": {},
   "outputs": [],
   "source": [
    "# STEP 1: simulate stock price at maturity\n",
    "Z = np.random.standard_normal(n_sims)  # random N(0,1)\n",
    "ST = S0 * np.exp((r - 0.5 * sigma**2)*T + sigma*np.sqrt(T)*Z)\n",
    "\n",
    "print(ST[:10])  # print first 10 simulated prices"
   ]
  },
  {
   "cell_type": "markdown",
   "id": "723b6e88-e00e-45fc-be5e-f73330e8c829",
   "metadata": {},
   "source": [
    "### Simulating $S_T$ (Geometric Brownian Motion)\n",
    "**Mathematics:** under Black–Scholes assumptions the terminal stock price is\n",
    "$$\n",
    "S_T = S_0 \\exp\\Big((r - \\tfrac{1}{2}\\sigma^2)T + \\sigma \\sqrt{T}\\,Z\\Big),\n",
    "\\qquad Z\\sim N(0,1).\n",
    "$$\n",
    "- The term $(r - \\tfrac{1}{2}\\sigma^2)T$ is the risk-neutral drift.\n",
    "- The term $\\sigma\\sqrt{T}Z$ introduces randomness from Brownian motion.\n",
    "\n",
    "**Python mechanics:**\n",
    "- `Z = np.random.standard_normal(n_sims)` produces an array of `n_sims` independent standard normals (shape `(n_sims,)`).\n",
    "- `np.exp(...)` is vectorised: it applies the exponential to each element of the array expression, returning an array of simulated prices `ST`.\n",
    "- `ST` therefore is a NumPy array of length `n_sims`. `print(ST[:10])` shows the first 10 simulated terminal prices as a sanity check."
   ]
  },
  {
   "cell_type": "code",
   "execution_count": null,
   "id": "6f3bf1d4-cd29-4b5f-9d1e-c100bb755566",
   "metadata": {},
   "outputs": [],
   "source": [
    "payoffs = np.maximum(ST - K, 0.0)         # phi_i\n",
    "N = len(payoffs)"
   ]
  },
  {
   "cell_type": "markdown",
   "id": "dd24256a-abdb-4fed-a551-3a1ecdf30bfa",
   "metadata": {},
   "source": [
    "### Option payoff at maturity\n",
    "\n",
    "**Mathematics:** for a European call, payoff $\\phi(S_T)=\\max(S_T-K,0)$.\n",
    "\n",
    "**Python mechanics:**\n",
    "- `np.maximum(ST - K, 0.0)` computes the payoff elementwise for the whole vector `ST` (fast, no loop).\n",
    "- `payoffs` is a 1-D array of the simulated payoffs.\n",
    "- `N = len(payoffs)` is the number of simulated payoffs (should equal `n_sims`)."
   ]
  },
  {
   "cell_type": "code",
   "execution_count": null,
   "id": "e0d8e808-81cb-4a4f-b5e3-9df214423103",
   "metadata": {},
   "outputs": [],
   "source": [
    "# Monte Carlo estimator (discounted mean)\n",
    "price_mc = math.exp(-r*T) * payoffs.mean()\n",
    "\n",
    "# sample std of payoffs (ddof=1)\n",
    "s_phi = payoffs.std(ddof=1)\n",
    "\n",
    "# standard error of the estimator\n",
    "se_mc = math.exp(-r*T) * s_phi / math.sqrt(N)\n",
    "\n",
    "# 95% CI\n",
    "z = 1.96\n",
    "ci_lower = price_mc - z * se_mc\n",
    "ci_upper = price_mc + z * se_mc\n",
    "\n",
    "print(f\"MC price      = {price_mc:.6f}\")\n",
    "print(f\"SE (MC)       = {se_mc:.6f}\")\n",
    "print(f\"95% CI        = [{ci_lower:.6f}, {ci_upper:.6f}]\")\n",
    "print(f\"N simulations = {N}\")"
   ]
  },
  {
   "cell_type": "markdown",
   "id": "59105c85-a50e-4b27-851e-44015975ea13",
   "metadata": {},
   "source": [
    "### Monte Carlo estimator, standard error and confidence interval\n",
    "\n",
    "**Estimator (math):**\n",
    "$$\n",
    "\\hat{C} = e^{-rT}\\,\\frac{1}{N}\\sum_{i=1}^N \\phi(S_T^{(i)})\n",
    "$$\n",
    "This is the discounted sample mean of payoffs.\n",
    "\n",
    "**Standard error (math):**\n",
    "Let $s_\\phi$ be the sample standard deviation of payoffs. The standard error of $\\hat C$ tells you how much the Monte Carlo price would vary across independent runs; narrower SE = more precise estimate.\n",
    "$$\n",
    "\\text{SE}(\\hat C) = e^{-rT}\\,\\frac{s_\\phi}{\\sqrt{N}}.\n",
    "$$\n",
    "\n",
    "**Why `ddof=1`?** `payoffs.std(ddof=1)` uses \\(N-1\\) in the variance denominator (sample standard deviation), which is the unbiased estimator for population variance. We use that value to form the standard error.\n",
    "\n",
    "**95% CI:** under CLT (large N) the MC estimator is approximately normal, so a 95% CI is $\\hat C \\pm 1.96\\cdot \\text{SE}$.\n",
    "\n"
   ]
  },
  {
   "cell_type": "code",
   "execution_count": null,
   "id": "394ace7e-0456-477b-bad2-52bbedadf1e7",
   "metadata": {},
   "outputs": [],
   "source": [
    "#Compare with BS\n",
    "\n",
    "def black_scholes_call(S, K, T, r, sigma):\n",
    "    d1 = (np.log(S/K) + (r + 0.5*sigma**2)*T) / (sigma*np.sqrt(T))\n",
    "    d2 = d1 - sigma*np.sqrt(T)\n",
    "    return S*norm.cdf(d1) - K*np.exp(-r*T)*norm.cdf(d2)\n",
    "\n",
    "price_bs = black_scholes_call(S0, K, T, r, sigma)\n",
    "\n",
    "abs_err = abs(price_mc - price_bs)\n",
    "rel_err = abs_err / price_bs\n",
    "\n",
    "print(f\"Black–Scholes = {price_bs:.6f}\")\n",
    "print(f\"Absolute err  = {abs_err:.6f}\")\n",
    "print(f\"Relative err  = {rel_err:.4%}\")"
   ]
  },
  {
   "cell_type": "markdown",
   "id": "2133877d-a961-4ba9-a632-03afd034a6f9",
   "metadata": {},
   "source": [
    "### Black–Scholes closed-form price\n",
    "\n",
    "**Mathematics:** for a European call,\n",
    "$$\n",
    "C_{\\text{BS}} = S_0 \\Phi(d_1) - K e^{-rT}\\Phi(d_2),\n",
    "$$\n",
    "where\n",
    "$$\n",
    "d_1 = \\frac{\\ln(S_0/K) + (r + 0.5\\sigma^2)T}{\\sigma\\sqrt{T}},\\qquad\n",
    "d_2 = d_1 - \\sigma\\sqrt{T},\n",
    "$$\n",
    "and $\\Phi(\\cdot)$ is the standard normal CDF.\n",
    "\n",
    "**Python mechanics:**\n",
    "- `norm.cdf(d1)` computes $\\Phi(d_1)$.\n",
    "- We compute `price_bs` and then absolute / relative errors vs Monte Carlo to check the simulation’s accuracy.\n"
   ]
  },
  {
   "cell_type": "code",
   "execution_count": 2,
   "id": "fa55f5cb-5e9c-4f17-a80c-7c74b54c0884",
   "metadata": {
    "tags": []
   },
   "outputs": [
    {
     "data": {
      "image/png": "[encoded data removed]",
      "text/plain": [
       "<Figure size 640x480 with 1 Axes>"
      ]
     },
     "metadata": {},
     "output_type": "display_data"
    }
   ],
   "source": [
    "Ns = [1000, 5000, 10000, 20000, 50000, 100000]\n",
    "estimates = []\n",
    "ses = []\n",
    "\n",
    "for n in Ns:\n",
    "    Z = np.random.standard_normal(n)\n",
    "    ST = S0 * np.exp((r - 0.5*sigma**2)*T + sigma*np.sqrt(T)*Z)\n",
    "    payoffs = np.maximum(ST - K, 0.0)\n",
    "    est = np.exp(-r*T) * payoffs.mean()\n",
    "    se = np.exp(-r*T) * payoffs.std(ddof=1) / (n**0.5)\n",
    "    estimates.append(est)\n",
    "    ses.append(se)\n",
    "\n",
    "plt.errorbar(Ns, estimates, yerr=ses, fmt='o-')\n",
    "plt.xscale('log')\n",
    "plt.xlabel('N (log scale)')\n",
    "plt.ylabel('Estimated Call Price')\n",
    "plt.title('MC Convergence and SE')\n",
    "plt.show()"
   ]
  },
  {
   "cell_type": "markdown",
   "id": "fcf027c2-bf63-4519-832c-f608a7ef1fb9",
   "metadata": {},
   "source": [
    "### Convergence experiment and error bars\n",
    "\n",
    "**Purpose:** show how the Monte Carlo estimate converges as `N` increases and how the standard error shrinks.\n",
    "\n",
    "**What the code does:**\n",
    "- For each `n` in `Ns` we run an independent Monte Carlo experiment, compute the discounted mean estimate and its SE.\n",
    "- `plt.errorbar` plots each estimate with a vertical bar equal to ±1 SE.\n",
    "- `plt.xscale('log')` makes the x-axis logarithmic so you can see the $1/\\sqrt{N}$ behaviour clearly.\n",
    "\n",
    "**Expected behaviour:** the cloud of estimates converges to the Black–Scholes price as `N` increases; SE should shrink approximately proportional to $1/\\sqrt{N}$.\n"
   ]
  },
  {
   "cell_type": "code",
   "execution_count": null,
   "id": "7b90f07c-2519-4254-8903-32244c1a9014",
   "metadata": {},
   "outputs": [],
   "source": []
  }
 ],
 "metadata": {
  "kernelspec": {
   "display_name": "Python 3 (ipykernel)",
   "language": "python",
   "name": "python3"
  },
  "language_info": {
   "codemirror_mode": {
    "name": "ipython",
    "version": 3
   },
   "file_extension": ".py",
   "mimetype": "text/x-python",
   "name": "python",
   "nbconvert_exporter": "python",
   "pygments_lexer": "ipython3",
   "version": "3.11.5"
  }
 },
 "nbformat": 4,
 "nbformat_minor": 5
}
