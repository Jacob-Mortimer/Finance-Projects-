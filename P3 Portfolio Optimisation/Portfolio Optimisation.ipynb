{
 "cells": [
  {
   "cell_type": "markdown",
   "id": "799d2c4d-1cd0-428b-85a3-ffdd45300941",
   "metadata": {},
   "source": [
    "Project 3 - Portfolio Optimization and Risk Management\n",
    "\n",
    "This project explores how to build and evaluate a stock portfolio. We begin by downloading historical price data and converting it into log returns, which form the basis for estimating expected returns and risk. Using the Markowitz mean–variance framework, we calculate portfolio return and volatility and then apply optimization techniques to find the allocation that maximizes the Sharpe ratio. The efficient frontier is plotted to show the trade-off between risk and return. We then extend the analysis by estimating Value-at-Risk (VaR) and Expected Shortfall (ES), both through historical data and Monte Carlo simulations, before validating the results with a statistical backtest. The overall goal is to understand how quantitative methods can guide investment decisions and measure the robustness of risk models.\n"
   ]
  },
  {
   "cell_type": "code",
   "execution_count": 5,
   "id": "11754b8f-fc0a-401e-98a0-5ef217ce1f43",
   "metadata": {
    "tags": []
   },
   "outputs": [
    {
     "name": "stderr",
     "output_type": "stream",
     "text": [
      "C:\\Users\\Jacon\\AppData\\Local\\Temp\\ipykernel_1508\\3049409195.py:16: FutureWarning: YF.download() has changed argument auto_adjust default to True\n",
      "  data = yf.download(tickers, start=start, end=end)\n",
      "[*********************100%***********************]  6 of 6 completed\n"
     ]
    }
   ],
   "source": [
    "import yfinance as yf\n",
    "import pandas as pd\n",
    "import numpy as np\n",
    "import matplotlib.pyplot as plt\n",
    "import seaborn as sns\n",
    "from scipy.stats import binomtest\n",
    "from scipy.optimize import minimize\n",
    "\n",
    "# risk-free rate (annual).\n",
    "r_f = 0.0\n",
    "\n",
    "tickers = [\"AAPL\",\"MSFT\",\"AMZN\",\"JPM\",\"XOM\",\"TSLA\"]\n",
    "start = \"2022-01-01\"\n",
    "end = \"2024-12-31\"\n",
    "\n",
    "data = yf.download(tickers, start=start, end=end)\n",
    "df = data['Close']          # just the closing prices\n",
    "df = df.dropna()            # clean missing values\n",
    "\n",
    "returns = np.log(df / df.shift(1)).dropna()\n",
    "trading_days = 252\n",
    "\n",
    "# annualised mean and vol\n",
    "mean_daily = returns.mean()\n",
    "cov_daily = returns.cov()\n",
    "\n",
    "mu_annual = mean_daily * trading_days\n",
    "cov_annual = cov_daily * trading_days\n",
    "vol_annual = np.sqrt(np.diag(cov_annual))"
   ]
  },
  {
   "cell_type": "markdown",
   "id": "94ab9dbe-96f7-4e29-b383-957ec1eb2ee5",
   "metadata": {},
   "source": [
    "# Data Collection and Preprocessing\n",
    "\n",
    "This section mirrors the workflow from **Project 2**, where we downloaded historical stock price data, converted it into log returns, and computed daily statistics such as mean and covariance. The same process is followed here to annualize returns and volatilities, providing the inputs needed for portfolio optimization and risk analysis."
   ]
  },
  {
   "cell_type": "code",
   "execution_count": 6,
   "id": "2e760405-158d-47fe-9c6c-6770846f2b5b",
   "metadata": {
    "tags": []
   },
   "outputs": [],
   "source": [
    "n = len(tickers)\n",
    "w_eq = np.array([1.0/n]*n)          # equal weights\n",
    "mu = mu_annual.values               # vector of annual returns\n",
    "cov = cov_annual.values             # annual covariance matrix\n",
    "\n",
    "# helper functions: mu_p = w^T.mu sigma_p = sqrt(w^T.covmat(w))\n",
    "def port_return(w, mu_vec):\n",
    "    \"\"\"Annual expected portfolio return given weights and mu vector\"\"\"\n",
    "    return float(np.dot(w, mu_vec))\n",
    "\n",
    "def port_vol(w, cov_mat):\n",
    "    \"\"\"Annual portfolio volatility (std)\"\"\"\n",
    "    return float(np.sqrt(np.dot(w.T, np.dot(cov_mat, w))))\n"
   ]
  },
  {
   "cell_type": "markdown",
   "id": "5be9c9ac-d0f4-47f3-be62-be768b824c0a",
   "metadata": {},
   "source": [
    "# Portfolio Setup and Helper Functions\n",
    "\n",
    "We begin by defining an **equal-weight portfolio**, where each of the $n$ assets is assigned the same weight $w_i = \\tfrac{1}{n}$. In Python, this is stored as a NumPy array `w_eq`.\n",
    "\n",
    "From earlier, we already have the **annualized mean returns** $\\mu$ (a vector) and the **annualized covariance matrix** $\\Sigma$ (a square matrix). These are extracted as NumPy arrays for computation.\n",
    "\n",
    "Two helper functions are then defined:\n",
    "\n",
    "- **`port_return(w, mu_vec)`**: Computes the expected annual portfolio return using  \n",
    "  $$\n",
    "  \\mu_p = w^\\top \\mu\n",
    "  $$\n",
    "  implemented with `np.dot(w, mu_vec)`.\n",
    "\n",
    "- **`port_vol(w, cov_mat)`**: Computes the annual portfolio volatility (standard deviation of returns) using  \n",
    "  $$\n",
    "  \\sigma_p = \\sqrt{w^\\top \\Sigma w}\n",
    "  $$\n",
    "  implemented with `np.dot` twice inside a square root.\n",
    "\n",
    "These functions let us evaluate any portfolio’s expected return and risk, given weights $w$.\n"
   ]
  },
  {
   "cell_type": "code",
   "execution_count": 7,
   "id": "888a551f-6232-445b-a0cd-7d8d42dd1c1c",
   "metadata": {
    "tags": []
   },
   "outputs": [
    {
     "name": "stdout",
     "output_type": "stream",
     "text": [
      "Equal weight portfolio\n",
      "Weights: {'AAPL': 0.167, 'MSFT': 0.167, 'AMZN': 0.167, 'JPM': 0.167, 'XOM': 0.167, 'TSLA': 0.167}\n",
      "Expected return (annual): 11.20%\n",
      "Volatility (annual): 23.96%\n",
      " Sharpe: 0.467\n"
     ]
    }
   ],
   "source": [
    "ret_eq = port_return(w_eq, mu)\n",
    "vol_eq = port_vol(w_eq, cov)\n",
    "sharpe_sh = (ret_eq - r_f) / vol_eq\n",
    "print(\"Equal weight portfolio\")\n",
    "print(\"Weights:\", dict(zip(tickers, np.round(w_eq,3))))\n",
    "print(f\"Expected return (annual): {ret_eq:.2%}\")\n",
    "print(f\"Volatility (annual): {vol_eq:.2%}\")\n",
    "print(f\" Sharpe: {sharpe_sh:.3f}\")\n"
   ]
  },
  {
   "cell_type": "markdown",
   "id": "36940685-de88-4f3f-a5c0-36d64cc9b1d1",
   "metadata": {},
   "source": [
    "# Equal-Weight Portfolio Evaluation\n",
    "\n",
    "Using the helper functions, we first calculate the **expected annual return** and **volatility** of the equal-weight portfolio:\n",
    "\n",
    "- Portfolio return:\n",
    "  $$\n",
    "  \\mu_p = w^\\top \\mu\n",
    "  $$\n",
    "\n",
    "- Portfolio volatility:\n",
    "  $$\n",
    "  \\sigma_p = \\sqrt{w^\\top \\Sigma w}\n",
    "  $$\n",
    "\n",
    "The **Sharpe ratio** is then computed as:\n",
    "$$\n",
    "\\text{Sharpe} = \\frac{\\mu_p - r_f}{\\sigma_p}\n",
    "$$\n",
    "where $r_f$ is the risk-free rate (set to 0 here).  \n",
    "\n",
    "In Python:\n",
    "- `ret_eq = port_return(w_eq, mu)` gives the expected return.  \n",
    "- `vol_eq = port_vol(w_eq, cov)` gives the volatility.  \n",
    "- `sharpe_sh = (ret_eq - r_f) / vol_eq` computes the Sharpe ratio.  \n",
    "\n",
    "Finally, the results are printed: portfolio weights, expected return, volatility, and Sharpe ratio. This establishes the **baseline performance** of an equal-weight portfolio."
   ]
  },
  {
   "cell_type": "code",
   "execution_count": 8,
   "id": "a4201e1f-7893-4eb7-ae29-a359672206fa",
   "metadata": {
    "tags": []
   },
   "outputs": [],
   "source": [
    "def neg_sharpe(w, mu_vec, cov_mat, rf=r_f):\n",
    "    ret = port_return(w, mu_vec)     # w^T * mu  (expected return)\n",
    "    vol = port_vol(w, cov_mat)       # sqrt(w^T Σ w)  (volatility)\n",
    "    if vol == 0:                     # avoid divide by zero\n",
    "        return 1e6\n",
    "    return - (ret - rf) / vol        # negative Sharpe"
   ]
  },
  {
   "cell_type": "markdown",
   "id": "92a75625-c1d4-4f51-a128-2922a8727def",
   "metadata": {},
   "source": [
    "# Negative Sharpe Ratio Function\n",
    "\n",
    "The purpose of this function is to provide an objective that can be passed into an optimizer in order to **maximize the Sharpe ratio of a portfolio**. Since Python’s `scipy.optimize.minimize` is designed to minimize a function, we return the *negative* of the Sharpe ratio. Minimizing this negative value is mathematically equivalent to maximizing the original ratio.\n",
    "\n",
    "The function begins with the line `ret = port_return(w, mu_vec)`. Here, the input `w` is the weight vector of the portfolio, and `mu_vec` is the vector of expected returns for each asset. The helper function `port_return` computes the dot product $w^\\top \\mu$, which represents the expected return of the portfolio. This ensures that the optimizer evaluates the performance of a given set of weights in terms of expected reward.\n",
    "\n",
    "Next, `vol = port_vol(w, cov_mat)` calculates the portfolio’s risk. The helper function `port_vol` applies the quadratic form $\\sqrt{w^\\top \\Sigma w}$, where $\\Sigma$ is the covariance matrix of asset returns. This gives the portfolio’s volatility, which is required for the denominator of the Sharpe ratio. In Python, the call leverages NumPy’s efficient array operations to perform this matrix multiplication under the hood.\n",
    "\n",
    "The following conditional, `if vol == 0: return 1e6`, is a defensive programming step. In the unlikely event that the volatility is exactly zero, dividing by it would produce an error. Instead of crashing, the function returns a very large number (`1e6`), effectively penalizing this weight configuration and ensuring the optimizer discards it.\n",
    "\n",
    "Finally, the line `return - (ret - rf) / vol` completes the function. The numerator is the excess return over the risk-free rate $r_f$, while the denominator is the portfolio volatility. This is the standard Sharpe ratio, but with a negative sign attached. The purpose of this inversion is so that minimizing this function with respect to $w$ is equivalent to maximizing the original Sharpe ratio. Thus, each line of code collectively transforms the optimization problem into one the solver can handle, linking the mathematical definition of the Sharpe ratio directly to a Python implementation that can be optimized.\n"
   ]
  },
  {
   "cell_type": "code",
   "execution_count": 9,
   "id": "0c33565d-422f-4cbf-9a37-679fbc1d1ad8",
   "metadata": {
    "tags": []
   },
   "outputs": [
    {
     "name": "stdout",
     "output_type": "stream",
     "text": [
      "Max-Sharpe portfolio (no shorting):\n",
      "Weights: {'AAPL': 0.128, 'MSFT': 0.0, 'AMZN': 0.346, 'JPM': 0.031, 'XOM': 0.0, 'TSLA': 0.496}\n",
      "Return: 17.50%, Vol: 19.66%, Sharpe: 0.890\n"
     ]
    }
   ],
   "source": [
    "\n",
    "cons = ({'type': 'eq', 'fun': lambda w: np.sum(w) - 1}) #weights must sum to 1 (fully invest)\n",
    "bounds = tuple((0,1) for _ in range(n)) #no short selling (positive weight)\n",
    "w0 = w_eq.copy() #start at equal\n",
    "\n",
    "res = minimize(neg_sharpe, w0, args=(mu, cov),\n",
    "               method='SLSQP', bounds=bounds, constraints=cons) # Sequential least squares programming (finds portfolio with lowest neg sharpe => highest sharpe)\n",
    "\n",
    "w_sharpe = res.x\n",
    "ret_sh = port_return(w_sharpe, mu)\n",
    "vol_sh = port_vol(w_sharpe, cov)\n",
    "sharpe_sh = (ret_sh - r_f) / vol_sh\n",
    "\n",
    "print(\"Max-Sharpe portfolio (no shorting):\")\n",
    "print(\"Weights:\", dict(zip(tickers, np.round(w_sharpe,3))))\n",
    "print(f\"Return: {ret_sh:.2%}, Vol: {vol_sh:.2%}, Sharpe: {sharpe_sh:.3f}\")"
   ]
  },
  {
   "cell_type": "markdown",
   "id": "345b1f71-6e2d-4c78-b74b-602b750d41e2",
   "metadata": {},
   "source": [
    "# Maximum Sharpe Ratio Portfolio Optimization\n",
    "\n",
    "This section of code uses numerical optimization to find the portfolio with the highest Sharpe ratio, subject to realistic constraints. This can now be easily done by minimising the Negative Sharpe Ratio.\n",
    "\n",
    "The first line sets up a constraint dictionary, where `{'type': 'eq', 'fun': lambda w: np.sum(w) - 1}` enforces that the portfolio weights must sum exactly to one, ensuring that the portfolio is fully invested. Next, `bounds = tuple((0,1) for _ in range(n))` restricts each asset’s weight to lie between 0 and 1, preventing short selling and leverage. The variable `w0 = w_eq.copy()` defines the starting point of the optimization which will be equal weight allocation. \n",
    "\n",
    "The optimization is then carried out with `minimize`, where the objective is the `neg_sharpe` function. The arguments `(mu, cov)` supply the expected returns and covariance matrix, and the method SLSQP (Sequential Least Squares Programming) is chosen because it naturally handles both equality constraints and box constraints. Under the hood, this algorithm iteratively adjusts the weights to search for the allocation that minimizes the negative Sharpe ratio, i.e. maximizes the Sharpe ratio.\n",
    "\n",
    "Once the optimizer finds a solution, the optimal weights are stored in `w_sharpe = res.x`. These weights are then fed into the previously defined helper functions: `port_return(w_sharpe, mu)` computes the expected return, while `port_vol(w_sharpe, cov)` computes volatility. The Sharpe ratio is finally recomputed as `(ret_sh - r_f) / vol_sh` for clarity.\n",
    "\n",
    "The print statements at the end display the optimized allocation alongside its risk–return profile. Conceptually, this procedure implements Markowitz’s mean–variance optimization, but specifically focused on finding the portfolio on the efficient frontier that maximizes the Sharpe ratio. In practical portfolio management, this is often referred to as the tangency portfolio."
   ]
  },
  {
   "cell_type": "code",
   "execution_count": 10,
   "id": "262b2ce1-d142-481c-ac76-b8e4c8b1ac71",
   "metadata": {
    "tags": []
   },
   "outputs": [],
   "source": [
    "r_min = min(mu)\n",
    "r_max = max(mu)\n",
    "target_returns = np.linspace(r_min, r_max, 40)\n",
    "\n",
    "frontier_vols = []\n",
    "frontier_weights = []\n",
    "\n",
    "for r_target in target_returns:\n",
    "    cons = (\n",
    "    {'type': 'eq', 'fun': lambda w: np.sum(w) - 1},\n",
    "    {'type': 'eq', 'fun': lambda w, r_target=r_target: port_return(w, mu) - r_target}\n",
    "    )\n",
    "    res = minimize(lambda w: port_vol(w, cov), w0, method='SLSQP', bounds=bounds, constraints=cons)\n",
    "    if not res.success:\n",
    "        frontier_vols.append(np.nan)\n",
    "        frontier_weights.append(None)\n",
    "    else:\n",
    "        frontier_vols.append(res.fun)\n",
    "        frontier_weights.append(res.x)"
   ]
  },
  {
   "cell_type": "markdown",
   "id": "ba1afb6a-3b58-4c9f-9e83-8d4974bf2cd8",
   "metadata": {},
   "source": [
    "### Efficient Frontier Construction\n",
    "\n",
    "This section of the code implements the **Markowitz framework** by calculating the efficient frontier. The efficient frontier is the set of portfolios that minimize risk for a given target return, or equivalently maximize return for a given risk. It is the fundamental object of Modern Portfolio Theory.\n",
    "\n",
    "We begin by setting the range of returns that the frontier will cover: `r_min = min(mu)` and `r_max = max(mu)` extract the minimum and maximum expected returns across all individual assets in the portfolio universe. These serve as the lower and upper bounds for the target portfolio returns. `target_returns = np.linspace(r_min, r_max, 40)` then generates 40 evenly spaced target return values between these bounds. Each of these will become a constraint in a separate optimization problem.\n",
    "\n",
    "Two lists, `frontier_vols` and `frontier_weights`, are initialized as empty containers to store the optimal volatilities and corresponding weights for each target return.\n",
    "\n",
    "The `for` loop iterates over every `r_target` in the `target_returns` array. For each target return, a set of constraints is defined:\n",
    "1. `{'type': 'eq', 'fun': lambda w: np.sum(w) - 1}` ensures that the portfolio is fully invested (the weights must sum to one).\n",
    "2. `{'type': 'eq', 'fun': lambda w, r_target=r_target: port_return(w, mu) - r_target}` enforces that the chosen portfolio must achieve exactly the target return. Here, `port_return(w, mu)` computes $w^\\top \\mu$, the portfolio’s expected return, which is constrained to equal `r_target`.\n",
    "\n",
    "The optimization is performed with `scipy.optimize.minimize`, where the objective is `lambda w: port_vol(w, cov)`. This function computes the portfolio volatility:\n",
    "$$\n",
    "\\sigma_p = \\sqrt{w^\\top \\Sigma w}\n",
    "$$\n",
    "Thus, for each `r_target`, the algorithm searches for the portfolio weights $w$ that minimize volatility subject to the constraints. The method used is **SLSQP** (Sequential Least Squares Programming), which is well-suited to handle both equality constraints and box constraints such as bounds.\n",
    "\n",
    "If the optimization fails (`res.success == False`), placeholders (`np.nan` and `None`) are appended to the lists. Otherwise, the optimizer’s results are stored: `res.fun` is the minimized volatility, and `res.x` is the vector of weights that achieved it.\n",
    "\n",
    "After the loop completes, the two lists together define the efficient frontier: `frontier_vols` contains the minimum risks associated with each target return, and `frontier_weights` contains the corresponding optimal allocations.\n"
   ]
  },
  {
   "cell_type": "code",
   "execution_count": 11,
   "id": "2c77fbb3-b256-4c3f-9041-45851302c6bd",
   "metadata": {
    "tags": []
   },
   "outputs": [
    {
     "data": {
      "text/plain": [
       "<matplotlib.collections.PathCollection at 0x1e206001bd0>"
      ]
     },
     "execution_count": 11,
     "metadata": {},
     "output_type": "execute_result"
    },
    {
     "data": {
      "image/png": "[encoded data removed]",
      "text/plain": [
       "<Figure size 640x480 with 1 Axes>"
      ]
     },
     "metadata": {},
     "output_type": "display_data"
    }
   ],
   "source": [
    "plt.plot(frontier_vols, target_returns, label='Efficient frontier', lw=2)\n",
    "plt.scatter(vol_eq, ret_eq, c='gray', marker='o', label='Equal weight')\n",
    "plt.scatter(vol_sh, ret_sh, c='red', marker='*', s=150, label='Max Sharpe')"
   ]
  },
  {
   "cell_type": "markdown",
   "id": "390febe2-e8d5-4582-8280-993ae3e0605b",
   "metadata": {},
   "source": [
    "### Plot Interpretation: Efficient Frontier\n",
    "\n",
    "The plot illustrates the **efficient frontier** as the blue curve. The horizontal axis (x-axis) represents **portfolio volatility** (standard deviation of returns), which measures the total risk of the portfolio. Moving to the right along this axis indicates higher risk. The vertical axis (y-axis) represents the **expected portfolio return**, with higher values indicating greater anticipated performance.\n",
    "\n",
    "Each point on the blue curve results from solving an optimization problem that minimizes risk for a given target return. In other words, the frontier shows the best possible trade-offs between risk and return available from the given assets. Any portfolio lying below the frontier is inefficient, because there exists another allocation that offers a higher return for the same or lower risk.\n",
    "\n",
    "The gray circle denotes the **equal-weight portfolio**, where capital is evenly distributed across assets. Its placement below the frontier shows that while simple, this allocation is not optimal — higher returns could be achieved without increasing risk, or the same returns could be earned with less risk.\n",
    "\n",
    "The red star marks the **maximum Sharpe ratio portfolio**, also called the **tangency portfolio**. It lies on the frontier at the point where risk-adjusted performance is maximized. This portfolio offers the steepest slope in terms of return per unit of risk, making it the most efficient allocation when the objective is to maximize performance relative to risk.\n",
    "\n",
    "Taken together, the axes and the plot convey Markowitz’s fundamental insight: diversification shapes the curved frontier by reducing volatility relative to expected return, and rational investors should choose allocations along this frontier rather than below it.\n"
   ]
  },
  {
   "cell_type": "code",
   "execution_count": null,
   "id": "d5f46ddb-1689-465d-b90b-aa542d3792ad",
   "metadata": {},
   "outputs": [],
   "source": []
  }
 ],
 "metadata": {
  "kernelspec": {
   "display_name": "Python 3 (ipykernel)",
   "language": "python",
   "name": "python3"
  },
  "language_info": {
   "codemirror_mode": {
    "name": "ipython",
    "version": 3
   },
   "file_extension": ".py",
   "mimetype": "text/x-python",
   "name": "python",
   "nbconvert_exporter": "python",
   "pygments_lexer": "ipython3",
   "version": "3.11.5"
  }
 },
 "nbformat": 4,
 "nbformat_minor": 5
}
